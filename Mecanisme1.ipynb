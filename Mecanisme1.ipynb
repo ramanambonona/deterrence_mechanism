{
 "cells": [
  {
   "cell_type": "markdown",
   "id": "94a55f5a-5a98-4a23-914a-7866d36499d1",
   "metadata": {},
   "source": [
    "# Mécanisme de dissuasion  \n",
    "## 1. Modèle d'information complète  \n",
    "$p$ : probabilité d'arrestation et de condamnation  \n",
    "$w_{1}$ : le revenu de l'agent honnête  \n",
    "$w_{2}$ : le revenu de l'agent malhonnête suite à l'accomplissement de\n",
    "l'acte  \n",
    "$S$ : la sanction  \n",
    "$h$ : le dommage subis par l'agent honnête tel que $h = w_{1} - w_{2}$  \n",
    "Dans un contexte de présence de crime, l'utilité de l'agent honnête peut\n",
    "s'écrire :  \n",
    "$E_{1} = (w_{1} - h)(1 - p) + pw_{1}$ (utilité espérée de l'agent\n",
    "honnête)  \n",
    "ou encore, $E_{1} = w_{1} - h(1 - p)$  \n",
    "$E_{2} = w_{2}(1 - p) + p(w_{2} - S)$ (utilité espérée de l'agent\n",
    "malhonnête)  \n",
    "Ceci n'est autre que : $E_{2} = w_{2} - pS$\n",
    "\n",
    "Le premier mécanisme est la dissuasion par l’application de la sanction\n",
    "qu’on définit par $m(s)$.  \n",
    "L’implémentation de la dissuasion revient à chercher le maximum entre le\n",
    "revenu issu de l’activité légale et le revenu espéré de l'activité\n",
    "illégale sous l'emprise de la sanction $S$. De cette proposition, on\n",
    "peut écrire :\n",
    "\n",
    "$$m(S) = \\max(w_{1};w_{2} - pS)\n",
    "$$\n",
    "\n",
    "Le second mécanisme désigné par $m(h)$ est la minimisation du dommage et du\n",
    "revenu de l’activité illégale.  Ce second mécanisme n’est autre que le mécanisme\n",
    " de réparation du dommage par le revenu issu de l’activité illégale ou encore,\n",
    "il conciste à trouver le minimum entre le revenu de l'acte illégal $w_2$ et le revenu\n",
    "de l'activité légale sous l'emprise de dommage subis par l'agent honnête en cas de\n",
    "présence de d'acte illégal.\n",
    "\n",
    "$$m(h) = min(w_1-(1-p)h; w_2)$$\n",
    "\n",
    "Par intuition, afin de pouvoir dissuader le comportement illégal, il est\n",
    "évident de constater que les deux mécanismes sont équivalents et\n",
    "aboutissent au même résultat. Il existe une équivalence certaine de\n",
    "résultat entre le mécanisme de dissuasion et le mécanisme de réparation\n",
    "du dommage. Autrement dit, l'Autorité en charge d'application de la loi\n",
    "doit faire en sorte que les deux mécanismes se coïncident $m(s) = m(h)$,\n",
    "c'est à dire :\n",
    "\n",
    "$$\\max(w_{1};w_{2} - pS) = \\min(w_{1} - (1 - p)h;w_{2})$$\n",
    "\n",
    "### Proposition 1 \n",
    "Si la connaissance sur la valeur du gain de l'activité\n",
    "illégale $w_{2}$ est parfaite, le dommage est évité car l'agent\n",
    "malhônnete est suffisamment dissuadé car à la fois, le revenu de\n",
    "l'activité légale est incitative par rapport au gain espéré de\n",
    "l'activité illégale $w_{1} > w_{2} - pS$ et le revenu espéré en tenant\n",
    "compte de dommage éventuel en cas de présence d'activité est surpérieur\n",
    "par rapport au revenu de l'activité illégale même en cas de non\n",
    "appréhension, $w_{1} - h(1 - p) > w_{2}$\n",
    "\n",
    "### Preuve 1 \n",
    "Si les deux conditions suivantes sont réunies\n",
    "$w_{1} > w_{2} - pS$ et $w_{1} - h(1 - p) > w_{2}$,\n",
    "\n",
    "alors $\\max(w_{1};w_{2} - pS) = w_{1}$\n",
    "\n",
    "et $\\min(w_{1} - (1 - p)h;w_{2}) = w_{2}$  \n",
    "comme $m(s) = m(h)$, on en deduit que $w_{1} = w_{2}$ ou encore\n",
    "$w_{1} - w_{2} = 0$. Or d'après notre hypothèse, $w_{1} - w_{2} = h$,\n",
    "par conséquent $h = 0$\n",
    "\n",
    "### Proposition 2 \n",
    " Si le revenu anticipé de l'activité illégale est supérieur\n",
    "par rapport au revenu de l'activité légale $w_{2} - pS > w_{1}$ et le\n",
    "revenu de l'activité illégale en cas de non arrestation est supérieur au\n",
    "revenu de l'activité légale deduite du dommage éventuel\n",
    "$w_{2} > w_{1} - h(1 - p)$, le crime n'est pas dissuadé alors il devrait\n",
    "y avoir du dommage subis (impact négatif) par l'agent honnête mais pour\n",
    "y réparer il faut que la valeur de sanction devrait pouvoir compenser le\n",
    "dommage\n",
    "\n",
    "### Preuve 2 \n",
    "Si les conditions suivantes sont réunies $w_{1} < w_{2} - pS$\n",
    "et $w_{1} - h(1 - p) < w_{2}$\n",
    "\n",
    "alors $\\max(w_{1};w_{2} - pS) = w_{2} - pS$\n",
    "\n",
    "et $\\min(w_{1} - (1 - p)h;w_{2}) = w_{1} - (1 - p)h$  \n",
    "comme $m(s) = m(h)$, on peut écrire $w_{2} - pS = w_{1} - (1 - p)h$ et\n",
    "$w_{1} - w_{2} = h$, donc $pS = (1 - p)h - h$, cette relation n'est\n",
    "autre que $S = - h$. Le signe négatif s'interprète ici comme le dommage\n",
    "négatif impacté au niveau de l'agent honnête.\n",
    "\n",
    "Sanction optimale\n",
    "\n",
    "Si les deux activités (légales et illégales) sont attrayantes,\n",
    "il existe une solution optimale permettant de réparer les dommages subis\n",
    "par l'agent honnête\n",
    "\n",
    "si $w_{1} = w_{2} - pS$ et $w_{1} - (1 - p)h = w_{2}$\n",
    "\n",
    "$$\\max(w_{1};w_{2} - pS) = \\frac{w_{1} + w_{2} - pS + \\mid w_{1} - w_{2} + pS \\mid}{2}$$\n",
    "\n",
    "$$\\min(w_{1} - (1 - p)h;w_{2}) = \\frac{w_{1} - (1 - p)h + w_{2} - \\mid w_{1} - (1 - p)h - w_{2} \\mid}{2}$$\n",
    "\n",
    "$$\\frac{w_{1} + w_{2} - pS + \\mid w_{1} - w_{2} + pS \\mid}{2} = \\frac{w_{1} - (1 - p)h + w_{2} - \\mid w_{1} - (1 - p)h - w_{2} \\mid}{2}$$\n",
    "\n",
    "$$\\mid w_{1} - w_{2} + pS \\mid + \\mid w_{1} - w_{2} - (1 - p)h \\mid = pS - (1 - p)h$$\n",
    "\n",
    "$$\\mid h + pS \\mid + \\mid h - (1 - p)h \\mid = pS - (1 - p)h\n",
    "$$\n",
    "\n",
    "$$S = - \\frac{h(2 - p)}{p}$$\n",
    "\n",
    "On observe que si $p = 1$,on obtient au resultat trouvé dans la\n",
    "propsition 2 $S = - h$ \n",
    "## 2. Application sur python"
   ]
  },
  {
   "cell_type": "code",
   "execution_count": 1,
   "id": "f8dcac0d",
   "metadata": {},
   "outputs": [],
   "source": [
    "from sympy import *\n",
    "from IPython.core.interactiveshell import InteractiveShell #print all elements, not only last one\n",
    "InteractiveShell.ast_node_interactivity = \"all\"\n",
    "init_printing(use_unicode=True)\n",
    "%matplotlib inline"
   ]
  },
  {
   "cell_type": "code",
   "execution_count": 2,
   "id": "dc2f3a2d",
   "metadata": {},
   "outputs": [
    {
     "data": {
      "image/png": "[encoded data removed]",
      "text/latex": [
       "$\\displaystyle \\operatorname{EU_{1}}{\\left(p,w_{1},h \\right)}$"
      ],
      "text/plain": [
       "EU₁(p, w₁, h)"
      ]
     },
     "execution_count": 2,
     "metadata": {},
     "output_type": "execute_result"
    },
    {
     "data": {
      "image/png": "[encoded data removed]",
      "text/latex": [
       "$\\displaystyle \\operatorname{EU_{2}}{\\left(p,w_{2},S \\right)}$"
      ],
      "text/plain": [
       "EU₂(p, w₂, S)"
      ]
     },
     "execution_count": 2,
     "metadata": {},
     "output_type": "execute_result"
    }
   ],
   "source": [
    "p, w1, S, h, w2 = symbols('p, w1, S, h, w2') # p : probability of arrest and conviction, w1 : victim's wealth, S : sanction or fine, h : harm, w2 : monetary benefit after accomplishing crime \n",
    "EU1 = symbols('EU1', cls=Function)(p,w1,h) # expected utility for victim the offender\n",
    "EU2 = symbols ('EU2', cls=Function)(p,w2,S) # Expected utility for the offender\n",
    "f = symbols ('f', cls = Function)(w2) # density function of b\n",
    "C = symbols ('C', cls = Function)(p) # cost of apprehension and conviction\n",
    "\n",
    "ms, mh = symbols('m_s, m_h')\n",
    "\n",
    "EU1\n",
    "EU2"
   ]
  },
  {
   "cell_type": "code",
   "execution_count": 3,
   "id": "23f0e357",
   "metadata": {},
   "outputs": [
    {
     "name": "stderr",
     "output_type": "stream",
     "text": [
      "C:\\Users\\raletso\\AppData\\Local\\Programs\\Python\\Python36-32\\lib\\site-packages\\sympy\\core\\relational.py:499: SymPyDeprecationWarning: \n",
      "\n",
      "Eq(expr) with rhs default to 0 has been deprecated since SymPy 1.5.\n",
      "Use Eq(expr, 0) instead. See\n",
      "https://github.com/sympy/sympy/issues/16587 for more info.\n",
      "\n",
      "  deprecated_since_version=\"1.5\"\n"
     ]
    },
    {
     "data": {
      "image/png": "[encoded data removed]",
      "text/latex": [
       "$\\displaystyle \\left\\{ h : - \\frac{w_{1}}{p - 1}\\right\\}$"
      ],
      "text/plain": [
       "⎧    -w₁ ⎫\n",
       "⎨h: ─────⎬\n",
       "⎩   p - 1⎭"
      ]
     },
     "execution_count": 3,
     "metadata": {},
     "output_type": "execute_result"
    },
    {
     "data": {
      "image/png": "[encoded data removed]",
      "text/latex": [
       "$\\displaystyle \\left\\{ S : - h + \\frac{w_{2}}{p}\\right\\}$"
      ],
      "text/plain": [
       "⎧        w₂⎫\n",
       "⎨S: -h + ──⎬\n",
       "⎩        p ⎭"
      ]
     },
     "execution_count": 3,
     "metadata": {},
     "output_type": "execute_result"
    },
    {
     "data": {
      "image/png": "[encoded data removed]",
      "text/latex": [
       "$\\displaystyle \\left[ \\left( - \\frac{w_{1}}{p - 1}, \\  p \\left(- S - h + w_{2}\\right) + w_{2} \\left(1 - p\\right) = 0\\right)\\right]$"
      ],
      "text/plain": [
       "⎡⎛ -w₁                                   ⎞⎤\n",
       "⎢⎜─────, p⋅(-S - h + w₂) + w₂⋅(1 - p) = 0⎟⎥\n",
       "⎣⎝p - 1                                  ⎠⎦"
      ]
     },
     "execution_count": 3,
     "metadata": {},
     "output_type": "execute_result"
    }
   ],
   "source": [
    "# mecanisme for deterring act illegal and reparing harm\n",
    "#min(a, b) = ((a +b) -|a -b|)/2 and max (a, b) = ((a+b)+|a-b|)/2\n",
    "# Assumption : h = w1 - w2\n",
    "\n",
    "EU1 = Eq((w1 - h)*(1-p) + p*w1)\n",
    "solve(EU1)[0]\n",
    "EU2 = Eq(w2*(1-p) + (w2-h-S)*p)\n",
    "solve(EU2)[0]\n",
    "solve(EU1, h, EU2)"
   ]
  },
  {
   "cell_type": "code",
   "execution_count": 4,
   "id": "7c7d704e",
   "metadata": {},
   "outputs": [
    {
     "data": {
      "image/png": "[encoded data removed]",
      "text/latex": [
       "$\\displaystyle \\max\\left(w_{1}, - p \\left(S + h\\right) + w_{2}\\right) = \\min\\left(w_{2}, - h \\left(1 - p\\right) + w_{1}\\right)$"
      ],
      "text/plain": [
       "Max(w1, -p*(S + h) + w2) = Min(w2, -h*(1 - p) + w1)"
      ]
     },
     "execution_count": 4,
     "metadata": {},
     "output_type": "execute_result"
    }
   ],
   "source": [
    "# Mechanism for deterring illegal activity \n",
    "ms = w2 - p*(h +S)\n",
    "mh = w1-(1-p)*h\n",
    "m = Eq(Max(w1, ms), Min(mh, w2))\n",
    "m\n",
    "# Mechanism for repairing damage\n",
    "# m(h) = Min(w1-(1-p)*h, w2)\n",
    "# m(h)"
   ]
  }
 ],
 "metadata": {
  "kernelspec": {
   "display_name": "Python 3",
   "language": "python",
   "name": "python3"
  },
  "language_info": {
   "codemirror_mode": {
    "name": "ipython",
    "version": 3
   },
   "file_extension": ".py",
   "mimetype": "text/x-python",
   "name": "python",
   "nbconvert_exporter": "python",
   "pygments_lexer": "ipython3",
   "version": "3.6.5"
  }
 },
 "nbformat": 4,
 "nbformat_minor": 5
}
