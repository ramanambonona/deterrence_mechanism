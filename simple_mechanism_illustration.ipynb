{
 "cells": [
  {
   "cell_type": "code",
   "execution_count": 1,
   "id": "2c6cb191",
   "metadata": {},
   "outputs": [],
   "source": [
    "from sympy import *\n",
    "from matplotlib import pyplot as plt\n",
    "import numpy as np\n",
    "import matplotlib\n",
    "matplotlib.rcParams['text.usetex'] = True\n",
    "matplotlib.rcParams['text.latex.preamble'] = [r'\\usepackage{amsmath}']\n",
    "init_printing(use_unicode=True)"
   ]
  },
  {
   "cell_type": "code",
   "execution_count": 2,
   "id": "d69d2eab",
   "metadata": {},
   "outputs": [],
   "source": [
    "p = np.arange(0.01, 1, 0.01) # probabilité de détection et de punition\n",
    "h_values = [100, 150, 200] # valeurs des dommages subis\n",
    "# S : valeur de la sanction"
   ]
  },
  {
   "cell_type": "code",
   "execution_count": 4,
   "id": "1d8f4cd2",
   "metadata": {},
   "outputs": [
    {
     "data": {
      "image/png": "[encoded data removed]",
      "text/plain": [
       "<Figure size 432x288 with 1 Axes>"
      ]
     },
     "metadata": {
      "needs_background": "light"
     },
     "output_type": "display_data"
    }
   ],
   "source": [
    "for h in h_values:\n",
    "  S = h*(2-p)/p\n",
    "  plt.plot(p, S, label=f'$h={h}$')\n",
    "\n",
    "plt.xlabel(r'$p$')\n",
    "plt.ylabel('$S$')\n",
    "plt.title(r'$S(p)$')\n",
    "plt.legend()\n",
    "plt.show()"
   ]
  },
  {
   "cell_type": "markdown",
   "id": "e8f05393",
   "metadata": {},
   "source": [
    "# Analyse et interprétation\n",
    "## Effet de dissuasion\n",
    "Le code Python fournit une fonction pour tracer une courbe représentant \n",
    "la sanction ($S$) en fonction de la probabilité d'arrestation et de punition ($p$) \n",
    "et du dommage potentiel ($h$). La fonction de sanction est illustré issu pour mettre en lumière la puissance de \n",
    "l'économie de dissuasion qi étudie comment les sanctions (pénalités, amendes, peines de prison, etc.) \n",
    "peuvent dissuader les individus de commettre des actes illégaux.\n",
    "Dans ce code, la formule pour calculer la sanction ($S$) est $S = \\frac{h(2-p)}{p}$. \n",
    "Cette formule indique que la sanction ($S$) augmente à mesure que la probabilité d'arrestation \n",
    "et de punition ($p$) diminue, mais également à mesure que le dommage potentiel ($h$) augmente.\n",
    "Plus précisément, la formule montre que la sanction ($S$) est proportionnelle au dommage potentiel ($h$)\n",
    " et inversement proportionnelle à la probabilité d'arrestation et de punition ($p$). Cela signifie que plus la peine encourue est élevée ($h$), plus la dissuasion est forte, tandis qu'une probabilité élevée d'arrestation et de punition ($p$) est également nécessaire pour renforcer la dissuasion.\n",
    " ## Substituabilité\n",
    " La relation entre la sanction ($S$) et la probabilité d'arrestation et de punition ($p$)indique que ces deux instruments peuvent se substituer l'un à l'autre dans la dissuasion des comportements illégaux. \n",
    "En d'autres termes, une augmentation de la probabilité d'arrestation et de punition peut permettre de diminuer \n",
    "la sévérité de la sanction pour obtenir un niveau de dissuasion équivalent, et inversement.\n",
    "\n",
    "Le code Python fournit un exemple concret de cette relation de substituabilité en montrant que si la probabilité d'arrestation et de punition est élevée, la sanction peut être moins sévère tout en restant dissuasive. À l'inverse, si la probabilité d'arrestation et de punition est faible, la sanction doit être plus sévère pour obtenir le même niveau de dissuasion. La relation de substituabilité est importante pour la politique de lutte contre la criminalité, car elle permet de concevoir des stratégies de dissuasion efficaces en équilibrant la sévérité de la sanction et la probabilité d'arrestation et de punition en fonction des ressources disponibles. Par exemple, lorsque les ressources policières sont limitées, il peut être plus efficace de privilégier une augmentation de la séverité de la sanction  plutôt qu'une augmentation de la probabilité d'arrestation et de punition pour obtenir une dissuasion efficace."
   ]
  },
  {
   "cell_type": "code",
   "execution_count": null,
   "id": "8b76d553",
   "metadata": {},
   "outputs": [],
   "source": []
  }
 ],
 "metadata": {
  "kernelspec": {
   "display_name": "Python 3",
   "language": "python",
   "name": "python3"
  },
  "language_info": {
   "codemirror_mode": {
    "name": "ipython",
    "version": 3
   },
   "file_extension": ".py",
   "mimetype": "text/x-python",
   "name": "python",
   "nbconvert_exporter": "python",
   "pygments_lexer": "ipython3",
   "version": "3.6.5"
  }
 },
 "nbformat": 4,
 "nbformat_minor": 5
}
